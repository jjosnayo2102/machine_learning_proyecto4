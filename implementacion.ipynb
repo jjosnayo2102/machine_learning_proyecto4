{
 "cells": [
  {
   "cell_type": "markdown",
   "metadata": {},
   "source": [
    "## El proyecto elegido es el de emparejamiento de rostros"
   ]
  },
  {
   "cell_type": "markdown",
   "metadata": {},
   "source": [
    "### Librerías:"
   ]
  },
  {
   "cell_type": "code",
   "execution_count": 13,
   "metadata": {},
   "outputs": [],
   "source": [
    "import cv2\n",
    "import pandas as pd\n",
    "import torch\n",
    "import torch.nn as nn\n",
    "import torch.nn.functional as F\n",
    "from sklearn.model_selection import train_test_split\n",
    "from sklearn.metrics import confusion_matrix, f1_score, precision_score, recall_score, classification_report\n",
    "import seaborn as sns\n",
    "import matplotlib.pyplot as plt"
   ]
  },
  {
   "cell_type": "markdown",
   "metadata": {},
   "source": [
    "### Extracción:"
   ]
  },
  {
   "cell_type": "code",
   "execution_count": 2,
   "metadata": {},
   "outputs": [],
   "source": [
    "train_text = pd.read_csv(\"train.csv\")\n",
    "test_text = pd.read_csv(\"test.csv\")\n",
    "train_data = train_text[\"image1_image2\"].to_numpy()\n",
    "test_data = test_text[\"image1_image2\"].to_numpy()\n",
    "label_data = train_text[\"label\"].to_numpy()\n",
    "# diff = 0, same = 1\n",
    "labels, clases = pd.factorize(label_data)"
   ]
  },
  {
   "cell_type": "code",
   "execution_count": 3,
   "metadata": {},
   "outputs": [
    {
     "name": "stderr",
     "output_type": "stream",
     "text": [
      "C:\\Users\\jjosn\\AppData\\Local\\Temp\\ipykernel_11200\\3205260307.py:12: UserWarning: Creating a tensor from a list of numpy.ndarrays is extremely slow. Please consider converting the list to a single numpy.ndarray with numpy.array() before converting to a tensor. (Triggered internally at ..\\torch\\csrc\\utils\\tensor_new.cpp:277.)\n",
      "  input = torch.tensor(imagenes, dtype=torch.float32)\n"
     ]
    }
   ],
   "source": [
    "x_train = []\n",
    "y_train = []\n",
    "for i, imagenes_id in enumerate(train_data):\n",
    "    par = imagenes_id.split('_')\n",
    "    label = labels[i]\n",
    "    imagen1 = cv2.imread('images/' + par[0] + '.png', cv2.IMREAD_GRAYSCALE)\n",
    "    imagen2 = cv2.imread('images/' + par[1] + '.png', cv2.IMREAD_GRAYSCALE)\n",
    "    imagenes = [imagen1, imagen2]\n",
    "    imagenesinv = [imagen2, imagen1]\n",
    "    m = [[]]\n",
    "    m[0].append(label)\n",
    "    input = torch.tensor(imagenes, dtype=torch.float32)\n",
    "    inputinv = torch.tensor(imagenesinv, dtype=torch.float32)\n",
    "    output_true = torch.tensor(m, dtype=torch.float32)\n",
    "    x_train.append(input)\n",
    "    x_train.append(inputinv)\n",
    "    y_train.append(output_true)\n",
    "    y_train.append(output_true)\n",
    "\n",
    "x_train, x_val, y_train, y_val = train_test_split(x_train, y_train, test_size=0.30, random_state=42)"
   ]
  },
  {
   "cell_type": "markdown",
   "metadata": {},
   "source": [
    "### Modelo:"
   ]
  },
  {
   "cell_type": "code",
   "execution_count": 4,
   "metadata": {},
   "outputs": [],
   "source": [
    "class CNN(nn.Module):\n",
    "    def __init__(self):\n",
    "        super(CNN, self).__init__()\n",
    "        self.layer1 = nn.Sequential(\n",
    "            nn.Conv2d(in_channels=2, out_channels=4, kernel_size=3, stride=1, padding=2),\n",
    "            nn.ReLU(),\n",
    "            nn.MaxPool2d(kernel_size=2, stride=2)\n",
    "        )\n",
    "        self.layer2 = nn.Sequential(\n",
    "            nn.Conv2d(in_channels=4, out_channels=8, kernel_size=3, stride=1, padding=2),\n",
    "            nn.ReLU(),\n",
    "            nn.MaxPool2d(kernel_size=2, stride=2)\n",
    "        )\n",
    "        self.layer3 = nn.Sequential(\n",
    "            nn.Conv2d(in_channels=8, out_channels=16, kernel_size=3, stride=1, padding=2),\n",
    "            nn.ReLU(),\n",
    "            nn.MaxPool2d(kernel_size=2, stride=2)\n",
    "        )\n",
    "        self.fc1 = nn.Linear(in_features=16*33*33, out_features=100)\n",
    "        self.fc2 = nn.Linear(in_features=100, out_features=1)\n",
    "\n",
    "    def forward(self, x):\n",
    "        out = self.layer1(x)\n",
    "        out = self.layer2(out)\n",
    "        out = self.layer3(out)\n",
    "        out = out.view(-1, 16*33*33)\n",
    "        out = self.fc1(out)\n",
    "        out = F.relu(out)\n",
    "        out = self.fc2(out)\n",
    "        return out\n",
    "    \n",
    "model = CNN()\n",
    "loss_fn = nn.BCEWithLogitsLoss()\n",
    "optimizer = torch.optim.Adam(model.parameters(), lr=0.001)"
   ]
  },
  {
   "cell_type": "markdown",
   "metadata": {},
   "source": [
    "### Entrenamiento:"
   ]
  },
  {
   "cell_type": "code",
   "execution_count": 5,
   "metadata": {},
   "outputs": [
    {
     "name": "stdout",
     "output_type": "stream",
     "text": [
      "epoch 0 loss: 0.7128029465675354\n",
      "epoch 1 loss: 0.6906899213790894\n",
      "epoch 2 loss: 0.6793791055679321\n",
      "epoch 3 loss: 0.6679757833480835\n",
      "epoch 4 loss: 0.6162598729133606\n",
      "epoch 5 loss: 0.2489161193370819\n",
      "epoch 6 loss: 0.1214832067489624\n",
      "epoch 7 loss: 0.033192310482263565\n",
      "epoch 8 loss: 0.01306077279150486\n",
      "epoch 9 loss: 2.639191052367096e-07\n"
     ]
    }
   ],
   "source": [
    "epochs = 10\n",
    "for epoch in range(epochs):\n",
    "    for id, imagenes in enumerate(x_train):\n",
    "        output_true = y_train[id]\n",
    "        optimizer.zero_grad()\n",
    "        output = model(imagenes)\n",
    "        loss = loss_fn(output, output_true)\n",
    "        loss.backward()\n",
    "        optimizer.step()\n",
    "    print(f\"epoch {epoch} loss: {loss.item()}\")\n",
    "\n",
    "torch.save(model, 'model.pth') "
   ]
  },
  {
   "cell_type": "code",
   "execution_count": 15,
   "metadata": {},
   "outputs": [
    {
     "name": "stdout",
     "output_type": "stream",
     "text": [
      "CNN(\n",
      "  (layer1): Sequential(\n",
      "    (0): Conv2d(2, 4, kernel_size=(3, 3), stride=(1, 1), padding=(2, 2))\n",
      "    (1): ReLU()\n",
      "    (2): MaxPool2d(kernel_size=2, stride=2, padding=0, dilation=1, ceil_mode=False)\n",
      "  )\n",
      "  (layer2): Sequential(\n",
      "    (0): Conv2d(4, 8, kernel_size=(3, 3), stride=(1, 1), padding=(2, 2))\n",
      "    (1): ReLU()\n",
      "    (2): MaxPool2d(kernel_size=2, stride=2, padding=0, dilation=1, ceil_mode=False)\n",
      "  )\n",
      "  (layer3): Sequential(\n",
      "    (0): Conv2d(8, 16, kernel_size=(3, 3), stride=(1, 1), padding=(2, 2))\n",
      "    (1): ReLU()\n",
      "    (2): MaxPool2d(kernel_size=2, stride=2, padding=0, dilation=1, ceil_mode=False)\n",
      "  )\n",
      "  (fc1): Linear(in_features=17424, out_features=100, bias=True)\n",
      "  (fc2): Linear(in_features=100, out_features=1, bias=True)\n",
      ")\n"
     ]
    }
   ],
   "source": [
    "model = torch.load(\"model.pth\")\n",
    "print(model)"
   ]
  },
  {
   "cell_type": "markdown",
   "metadata": {},
   "source": [
    "### Validación:"
   ]
  },
  {
   "cell_type": "code",
   "execution_count": 16,
   "metadata": {},
   "outputs": [
    {
     "name": "stderr",
     "output_type": "stream",
     "text": [
      "C:\\Users\\jjosn\\AppData\\Local\\Temp\\ipykernel_11200\\4172643183.py:9: UserWarning: To copy construct from a tensor, it is recommended to use sourceTensor.clone().detach() or sourceTensor.clone().detach().requires_grad_(True), rather than torch.tensor(sourceTensor).\n",
      "  y_val = torch.tensor(y_val)\n"
     ]
    }
   ],
   "source": [
    "y = []\n",
    "for imagenes in x_val:\n",
    "    output = model(imagenes)\n",
    "    y.append(output)  \n",
    "y = torch.tensor(y)\n",
    "y_pred = y > 0\n",
    "y_pred = y_pred.int()\n",
    "\n",
    "y_val = torch.tensor(y_val)\n",
    "y_val = y_val > 0\n",
    "y_val = y_val.int()"
   ]
  },
  {
   "cell_type": "code",
   "execution_count": 17,
   "metadata": {},
   "outputs": [
    {
     "data": {
      "image/png": "[encoded data removed]",
      "text/plain": [
       "<Figure size 640x480 with 2 Axes>"
      ]
     },
     "metadata": {},
     "output_type": "display_data"
    }
   ],
   "source": [
    "matrix = confusion_matrix(y_val, y_pred)\n",
    "sns.heatmap(matrix, cmap=\"Greens\")\n",
    "plt.xlabel(\"Predicted\")\n",
    "plt.ylabel(\"Real\")\n",
    "plt.show()"
   ]
  },
  {
   "cell_type": "code",
   "execution_count": 18,
   "metadata": {},
   "outputs": [
    {
     "name": "stdout",
     "output_type": "stream",
     "text": [
      "0.6845238095238095\n",
      "0.6686046511627907\n",
      "0.7012195121951219\n",
      "              precision    recall  f1-score   support\n",
      "\n",
      "           0       0.69      0.66      0.67       664\n",
      "           1       0.67      0.70      0.68       656\n",
      "\n",
      "    accuracy                           0.68      1320\n",
      "   macro avg       0.68      0.68      0.68      1320\n",
      "weighted avg       0.68      0.68      0.68      1320\n",
      "\n"
     ]
    }
   ],
   "source": [
    "print(f1_score(y_val, y_pred))\n",
    "print(precision_score(y_val, y_pred))\n",
    "print(recall_score(y_val, y_pred))\n",
    "print(classification_report(y_val,y_pred))"
   ]
  },
  {
   "cell_type": "markdown",
   "metadata": {},
   "source": [
    "### Testing:"
   ]
  },
  {
   "cell_type": "code",
   "execution_count": 19,
   "metadata": {},
   "outputs": [],
   "source": [
    "x_test = []\n",
    "for imagenes_id in test_data:\n",
    "    par = imagenes_id.split('_')\n",
    "    imagen1 = cv2.imread('images/' + par[0] + '.png', cv2.IMREAD_GRAYSCALE)\n",
    "    imagen2 = cv2.imread('images/' + par[1] + '.png', cv2.IMREAD_GRAYSCALE)\n",
    "    imagenes = [imagen1, imagen2]\n",
    "    input = torch.tensor(imagenes, dtype=torch.float32)\n",
    "    x_test.append(input)\n",
    "\n",
    "y_submit = []\n",
    "for imagenes in x_test:\n",
    "    output = model(imagenes)\n",
    "    y_submit.append(output)  \n",
    "y_submit = torch.tensor(y_submit)\n",
    "y_submit = y_submit > 0\n",
    "y_submit = y_submit.int()"
   ]
  },
  {
   "cell_type": "code",
   "execution_count": 20,
   "metadata": {},
   "outputs": [],
   "source": [
    "y_submit = y_submit.numpy()\n",
    "labe = []\n",
    "for l in y_submit:\n",
    "    if l == 0:\n",
    "        labe.append(\"diff\")\n",
    "    else:\n",
    "        labe.append(\"same\")\n",
    "submission = {\"image1_image2\": test_data, \"label\": labe}\n",
    "submit = pd.DataFrame(submission)\n",
    "submit.to_csv(\"submission.csv\", index=False)"
   ]
  }
 ],
 "metadata": {
  "kernelspec": {
   "display_name": ".env",
   "language": "python",
   "name": "python3"
  },
  "language_info": {
   "codemirror_mode": {
    "name": "ipython",
    "version": 3
   },
   "file_extension": ".py",
   "mimetype": "text/x-python",
   "name": "python",
   "nbconvert_exporter": "python",
   "pygments_lexer": "ipython3",
   "version": "3.10.6"
  }
 },
 "nbformat": 4,
 "nbformat_minor": 2
}
